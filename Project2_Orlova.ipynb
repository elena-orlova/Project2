{
 "cells": [
  {
   "cell_type": "markdown",
   "metadata": {},
   "source": [
    "В данном задании вам нужно применить методы машинного обучения для предсказания оценок на данных из первой части. Все пункты, помеченные '(!)' нельзя пропускать - дальнейшие пункты без них невозможны (остальные можно сначала пропустить и вернуться к ним позже)"
   ]
  },
  {
   "cell_type": "code",
   "execution_count": 132,
   "metadata": {
    "collapsed": true
   },
   "outputs": [],
   "source": [
    "%matplotlib inline\n",
    "import matplotlib.pyplot as plt\n",
    "import numpy as np\n",
    "import pandas as pd"
   ]
  },
  {
   "cell_type": "markdown",
   "metadata": {},
   "source": [
    "Загрузите датасет, с которым работали в первой части. Если не помните, используйте функцию ниже."
   ]
  },
  {
   "cell_type": "code",
   "execution_count": 133,
   "metadata": {
    "collapsed": false
   },
   "outputs": [
    {
     "name": "stdout",
     "output_type": "stream",
     "text": [
      "student-mat.csv\n"
     ]
    }
   ],
   "source": [
    "def get_df_name(name):\n",
    "    return 'student-mat.csv' if sum(ord(c) for c in name) % 2 else 'student-por.csv'\n",
    "\n",
    "df_name = get_df_name('Орлова Елена Геннадьевна')\n",
    "print(df_name)"
   ]
  },
  {
   "cell_type": "code",
   "execution_count": 134,
   "metadata": {
    "collapsed": false
   },
   "outputs": [
    {
     "data": {
      "text/html": [
       "<div>\n",
       "<table border=\"1\" class=\"dataframe\">\n",
       "  <thead>\n",
       "    <tr style=\"text-align: right;\">\n",
       "      <th></th>\n",
       "      <th>school</th>\n",
       "      <th>sex</th>\n",
       "      <th>age</th>\n",
       "      <th>address</th>\n",
       "      <th>famsize</th>\n",
       "      <th>Pstatus</th>\n",
       "      <th>Medu</th>\n",
       "      <th>Fedu</th>\n",
       "      <th>Mjob</th>\n",
       "      <th>Fjob</th>\n",
       "      <th>...</th>\n",
       "      <th>famrel</th>\n",
       "      <th>freetime</th>\n",
       "      <th>goout</th>\n",
       "      <th>Dalc</th>\n",
       "      <th>Walc</th>\n",
       "      <th>health</th>\n",
       "      <th>absences</th>\n",
       "      <th>G1</th>\n",
       "      <th>G2</th>\n",
       "      <th>G3</th>\n",
       "    </tr>\n",
       "  </thead>\n",
       "  <tbody>\n",
       "    <tr>\n",
       "      <th>0</th>\n",
       "      <td>GP</td>\n",
       "      <td>F</td>\n",
       "      <td>18</td>\n",
       "      <td>U</td>\n",
       "      <td>GT3</td>\n",
       "      <td>A</td>\n",
       "      <td>4</td>\n",
       "      <td>4</td>\n",
       "      <td>at_home</td>\n",
       "      <td>teacher</td>\n",
       "      <td>...</td>\n",
       "      <td>4</td>\n",
       "      <td>3</td>\n",
       "      <td>4</td>\n",
       "      <td>1</td>\n",
       "      <td>1</td>\n",
       "      <td>3</td>\n",
       "      <td>6</td>\n",
       "      <td>5</td>\n",
       "      <td>6</td>\n",
       "      <td>6</td>\n",
       "    </tr>\n",
       "    <tr>\n",
       "      <th>1</th>\n",
       "      <td>GP</td>\n",
       "      <td>F</td>\n",
       "      <td>17</td>\n",
       "      <td>U</td>\n",
       "      <td>GT3</td>\n",
       "      <td>T</td>\n",
       "      <td>1</td>\n",
       "      <td>1</td>\n",
       "      <td>at_home</td>\n",
       "      <td>other</td>\n",
       "      <td>...</td>\n",
       "      <td>5</td>\n",
       "      <td>3</td>\n",
       "      <td>3</td>\n",
       "      <td>1</td>\n",
       "      <td>1</td>\n",
       "      <td>3</td>\n",
       "      <td>4</td>\n",
       "      <td>5</td>\n",
       "      <td>5</td>\n",
       "      <td>6</td>\n",
       "    </tr>\n",
       "    <tr>\n",
       "      <th>2</th>\n",
       "      <td>GP</td>\n",
       "      <td>F</td>\n",
       "      <td>15</td>\n",
       "      <td>U</td>\n",
       "      <td>LE3</td>\n",
       "      <td>T</td>\n",
       "      <td>1</td>\n",
       "      <td>1</td>\n",
       "      <td>at_home</td>\n",
       "      <td>other</td>\n",
       "      <td>...</td>\n",
       "      <td>4</td>\n",
       "      <td>3</td>\n",
       "      <td>2</td>\n",
       "      <td>2</td>\n",
       "      <td>3</td>\n",
       "      <td>3</td>\n",
       "      <td>10</td>\n",
       "      <td>7</td>\n",
       "      <td>8</td>\n",
       "      <td>10</td>\n",
       "    </tr>\n",
       "    <tr>\n",
       "      <th>3</th>\n",
       "      <td>GP</td>\n",
       "      <td>F</td>\n",
       "      <td>15</td>\n",
       "      <td>U</td>\n",
       "      <td>GT3</td>\n",
       "      <td>T</td>\n",
       "      <td>4</td>\n",
       "      <td>2</td>\n",
       "      <td>health</td>\n",
       "      <td>services</td>\n",
       "      <td>...</td>\n",
       "      <td>3</td>\n",
       "      <td>2</td>\n",
       "      <td>2</td>\n",
       "      <td>1</td>\n",
       "      <td>1</td>\n",
       "      <td>5</td>\n",
       "      <td>2</td>\n",
       "      <td>15</td>\n",
       "      <td>14</td>\n",
       "      <td>15</td>\n",
       "    </tr>\n",
       "    <tr>\n",
       "      <th>4</th>\n",
       "      <td>GP</td>\n",
       "      <td>F</td>\n",
       "      <td>16</td>\n",
       "      <td>U</td>\n",
       "      <td>GT3</td>\n",
       "      <td>T</td>\n",
       "      <td>3</td>\n",
       "      <td>3</td>\n",
       "      <td>other</td>\n",
       "      <td>other</td>\n",
       "      <td>...</td>\n",
       "      <td>4</td>\n",
       "      <td>3</td>\n",
       "      <td>2</td>\n",
       "      <td>1</td>\n",
       "      <td>2</td>\n",
       "      <td>5</td>\n",
       "      <td>4</td>\n",
       "      <td>6</td>\n",
       "      <td>10</td>\n",
       "      <td>10</td>\n",
       "    </tr>\n",
       "  </tbody>\n",
       "</table>\n",
       "<p>5 rows × 33 columns</p>\n",
       "</div>"
      ],
      "text/plain": [
       "  school sex  age address famsize Pstatus  Medu  Fedu     Mjob      Fjob ...  \\\n",
       "0     GP   F   18       U     GT3       A     4     4  at_home   teacher ...   \n",
       "1     GP   F   17       U     GT3       T     1     1  at_home     other ...   \n",
       "2     GP   F   15       U     LE3       T     1     1  at_home     other ...   \n",
       "3     GP   F   15       U     GT3       T     4     2   health  services ...   \n",
       "4     GP   F   16       U     GT3       T     3     3    other     other ...   \n",
       "\n",
       "  famrel freetime  goout  Dalc  Walc health absences  G1  G2  G3  \n",
       "0      4        3      4     1     1      3        6   5   6   6  \n",
       "1      5        3      3     1     1      3        4   5   5   6  \n",
       "2      4        3      2     2     3      3       10   7   8  10  \n",
       "3      3        2      2     1     1      5        2  15  14  15  \n",
       "4      4        3      2     1     2      5        4   6  10  10  \n",
       "\n",
       "[5 rows x 33 columns]"
      ]
     },
     "execution_count": 134,
     "metadata": {},
     "output_type": "execute_result"
    }
   ],
   "source": [
    "df = pd.read_csv('student-mat.csv', sep = ';')\n",
    "df.head(5)"
   ]
  },
  {
   "cell_type": "markdown",
   "metadata": {},
   "source": [
    "В качестве целевого признака мы будем использовать финальную оценку G3. Оценки G1 и G2 мы не будем использовать в\n",
    "качестве признаков - они слишком сильно коррелируют с ответом.\n",
    "Извлеките из остальных данных признаки:\n",
    "* **(1 балл)(!)** Извлеките только числовые признаки\n",
    "* **(1 балл)** Извлеките также бинарные и категориальные признаки\n",
    "\n",
    "Ниже указано несколько инструментов, которые могут быть полезны (изучите самостоятельно):\n",
    "* `pd.get_dummies`\n",
    "* `sklearn.preprocessing.OneHotEncoder`\n",
    "* `pd.concat`\n",
    "* `np.hstack`"
   ]
  },
  {
   "cell_type": "code",
   "execution_count": 135,
   "metadata": {
    "collapsed": true
   },
   "outputs": [],
   "source": [
    "df = df.drop(['G1', 'G2'], 1)"
   ]
  },
  {
   "cell_type": "code",
   "execution_count": 136,
   "metadata": {
    "collapsed": false
   },
   "outputs": [],
   "source": [
    "num_features = np.vstack([df['age'].values, \n",
    "                              df['Medu'].values, \n",
    "                              df['Fedu'].values,\n",
    "                              df['traveltime'].values, \n",
    "                              df['studytime'].values,\n",
    "                              df['failures'].values,\n",
    "                              df['famrel'].values,\n",
    "                              df['freetime'].values,\n",
    "                              df['goout'].values,\n",
    "                              df['Dalc'].values,\n",
    "                              df['Walc'].values,\n",
    "                              df['health'].values,\n",
    "                              df['absences'].values]).T\n",
    "bin_features = np.vstack([(df['schoolsup'] == 'yes').values,\n",
    "                             (df['famsup'] == 'yes').values,\n",
    "                             (df['paid'] == 'yes').values,\n",
    "                             (df['activities'] == 'yes').values,\n",
    "                             (df['nursery'] == 'yes').values,\n",
    "                             (df['higher'] == 'yes').values,\n",
    "                             (df['internet'] == 'yes').values,\n",
    "                             (df['romantic'] == 'yes').values]).T\n",
    "categ_features = np.hstack((pd.get_dummies(df['school']), \n",
    "                                  pd.get_dummies(df['sex']),\n",
    "                                  pd.get_dummies(df['address']),\n",
    "                                  pd.get_dummies(df['famsize']),\n",
    "                                  pd.get_dummies(df['Pstatus']),\n",
    "                                  pd.get_dummies(df['Mjob']),\n",
    "                                  pd.get_dummies(df['Fjob']),\n",
    "                                  pd.get_dummies(df['reason'])))\n",
    "\n",
    "features = np.hstack((num_features, bin_features, categ_features))"
   ]
  },
  {
   "cell_type": "markdown",
   "metadata": {},
   "source": [
    "**(1 балл)(!)** Проверьте, насколько хорошо работает линейная регрессия (`sklearn.linear_model.LinRegressionression`) на этих данных с помощью кросс-валидации (`sklearn.cross_validation.cross_val_score`). Для этого в функцию `cross_val_score` нужно передать аргумент `scoring='mean_squared_error'` (учтите, что по техническим причинам функция будет возвращать значения MSE с минусом). Выведите результат в терминах RMSE."
   ]
  },
  {
   "cell_type": "code",
   "execution_count": 137,
   "metadata": {
    "collapsed": false
   },
   "outputs": [],
   "source": [
    "from sklearn.cross_validation import cross_val_score\n",
    "from sklearn.linear_model import LinearRegression\n",
    "from sklearn.metrics import mean_squared_error\n",
    "import math\n",
    "from sklearn.linear_model import Lasso, Ridge"
   ]
  },
  {
   "cell_type": "code",
   "execution_count": 138,
   "metadata": {
    "collapsed": false
   },
   "outputs": [
    {
     "name": "stdout",
     "output_type": "stream",
     "text": [
      "RMSE for linear regression = 4.477540895905259\n"
     ]
    }
   ],
   "source": [
    "def LinReg(features):\n",
    "    modelLR = LinearRegression()\n",
    "    scores = cross_val_score(modelLR, features, target, scoring = 'mean_squared_error', cv = 5).mean()\n",
    "    RMSE = math.sqrt(math.fabs(scores))\n",
    "    print('RMSE for linear regression =', RMSE)\n",
    "    return RMSE\n",
    "    \n",
    "score_LinReg = LinReg(features)"
   ]
  },
  {
   "cell_type": "code",
   "execution_count": 161,
   "metadata": {
    "collapsed": true
   },
   "outputs": [],
   "source": [
    "def Error_on_cross_validation(features, model):\n",
    "    scores = cross_val_score(model, features, target.ravel(), scoring = 'mean_squared_error', cv = 5).mean()\n",
    "    return math.sqrt(math.fabs(scores))\n",
    "\n",
    "def alpha_score(features, class_reg):\n",
    "    best_alpha = 0.1\n",
    "    model = class_reg(alpha = 0.1)\n",
    "    best_score = Error_on_cross_validation(features, model)\n",
    "    for i in range(500):\n",
    "        Alpha = 0.1 + 0.1*i\n",
    "        model = class_reg(alpha = Alpha)\n",
    "        score = Error_on_cross_validation(features, model)\n",
    "        if score < best_score:\n",
    "            best_alpha = Alpha\n",
    "            best_score = score\n",
    "    print(class_reg, \"\\nРегрессор выдал наименьшую ошибку =  \", best_score, \"при alpha = \", best_alpha)\n",
    "    return best_score"
   ]
  },
  {
   "cell_type": "code",
   "execution_count": 140,
   "metadata": {
    "collapsed": false
   },
   "outputs": [
    {
     "name": "stdout",
     "output_type": "stream",
     "text": [
      "<class 'sklearn.linear_model.coordinate_descent.Lasso'> \n",
      "Регрессор выдал наименьшую ошибку =   4.359230224079379 при alpha =  0.2\n",
      "<class 'sklearn.linear_model.ridge.Ridge'> \n",
      "Регрессор выдал наименьшую ошибку =   4.313112565696272 при alpha =  50.00000000000001\n"
     ]
    }
   ],
   "source": [
    "score_Lasso = alpha_score(features, Lasso)\n",
    "score_Ridge = alpha_score(features, Ridge)"
   ]
  },
  {
   "cell_type": "code",
   "execution_count": 141,
   "metadata": {
    "collapsed": false
   },
   "outputs": [
    {
     "name": "stdout",
     "output_type": "stream",
     "text": [
      "<class 'sklearn.tree.tree.DecisionTreeRegressor'> \n",
      "Регрессор выдал наименьшую ошибку =  4.439805358325869 при depth 2\n",
      "<class 'sklearn.ensemble.forest.RandomForestRegressor'> \n",
      "Регрессор выдал наименьшую ошибку =  4.127851717336538 при depth 3\n"
     ]
    }
   ],
   "source": [
    "from sklearn.tree import DecisionTreeRegressor\n",
    "from sklearn.ensemble import RandomForestRegressor\n",
    "\n",
    "def depth_score(features, class_reg):\n",
    "    best_depth = 1\n",
    "    model = class_reg(max_depth = best_depth)\n",
    "    best_score = Error_on_cross_validation(features, model)\n",
    "    for depth in range(1, 60):\n",
    "        model = class_reg(max_depth = depth)\n",
    "        score = Error_on_cross_validation(features, model)\n",
    "        if score < best_score:\n",
    "            best_depth = depth\n",
    "            best_score = score\n",
    "    print(class_reg, \"\\nРегрессор выдал наименьшую ошибку = \", best_score , \"при depth\", best_depth)\n",
    "    return best_score, best_depth \n",
    "\n",
    "score_DecTree, depth_DecTree = depth_score(features, DecisionTreeRegressor)\n",
    "score_RandForest, depth_RandForest = depth_score(features, RandomForestRegressor)"
   ]
  },
  {
   "cell_type": "code",
   "execution_count": 142,
   "metadata": {
    "collapsed": false
   },
   "outputs": [
    {
     "name": "stdout",
     "output_type": "stream",
     "text": [
      "Попробуем изменить количество деревьев при depth = 3\n",
      "<class 'sklearn.ensemble.forest.RandomForestRegressor'> \n",
      "Регрессор выдал наименьшую ошибку =  4.137347600831678 при depth =  3 , кол-во деревьев  4\n"
     ]
    }
   ],
   "source": [
    "def Number_of_Trees(features, depth):\n",
    "    best_number = 2\n",
    "    model = RandomForestRegressor(n_estimators = best_number, max_depth = depth)\n",
    "    best_score = Error_on_cross_validation(features, model)\n",
    "    print(\"Попробуем изменить количество деревьев при depth =\", depth)\n",
    "    for trees in range(2, 20):\n",
    "        model = RandomForestRegressor(n_estimators = trees, max_depth = depth)\n",
    "        score = Error_on_cross_validation(features, model)\n",
    "        if score < best_score:\n",
    "            best_number = trees\n",
    "            best_score = score\n",
    "    print(RandomForestRegressor, \"\\nРегрессор выдал наименьшую ошибку = \", best_score, \"при depth = \", \\\n",
    "          depth, \", кол-во деревьев \", best_number)\n",
    "    return best_score\n",
    "\n",
    "score_RandForest = Number_of_Trees(features, depth_RandForest)"
   ]
  },
  {
   "cell_type": "code",
   "execution_count": 143,
   "metadata": {
    "collapsed": false
   },
   "outputs": [
    {
     "name": "stdout",
     "output_type": "stream",
     "text": [
      "<class 'sklearn.neighbors.regression.KNeighborsRegressor'> \n",
      "Регрессор выдал наименьшую ошибку =  4.343267985428593 при количестве соседей =  12\n"
     ]
    }
   ],
   "source": [
    "from sklearn.neighbors import KNeighborsRegressor\n",
    "\n",
    "def neighbors(features):\n",
    "    best_neighbors = 1\n",
    "    model = KNeighborsRegressor(n_neighbors = best_neighbors)\n",
    "    best_score = Error_on_cross_validation(features, model)\n",
    "\n",
    "    for neighbors in range(1, 30):\n",
    "        model = KNeighborsRegressor(n_neighbors = neighbors)\n",
    "        score = Error_on_cross_validation(features, model)\n",
    "        if score < best_score:\n",
    "            best_neighbors = neighbors\n",
    "            best_score = score\n",
    "    print(KNeighborsRegressor, \"\\nРегрессор выдал наименьшую ошибку = \", best_score, \"при количестве соседей = \",\\\n",
    "       best_neighbors)\n",
    "    return best_score\n",
    "\n",
    "score_Neigh = neighbors(features)"
   ]
  },
  {
   "cell_type": "markdown",
   "metadata": {},
   "source": [
    "Подведем итоги:"
   ]
  },
  {
   "cell_type": "code",
   "execution_count": 144,
   "metadata": {
    "collapsed": false
   },
   "outputs": [
    {
     "name": "stdout",
     "output_type": "stream",
     "text": [
      "\t\t\t\t    RMSE\t\t\t\n",
      "Линйная регрессия:\t\t 4.477540895905259\n",
      "L1 - регуляризация:\t\t 4.359230224079379\n",
      "L2 - регуляризация:\t\t 4.313112565696272\n",
      "Решающее дерево:\t\t 4.439805358325869\n",
      "Случайный лес:\t\t\t 4.137347600831678\n",
      "Метод ближайших соседей:\t 4.343267985428593\n"
     ]
    }
   ],
   "source": [
    "print('\\t\\t\\t\\t    RMSE\\t\\t\\t')\n",
    "print('Линйная регрессия:\\t\\t', score_LinReg)\n",
    "print('L1 - регуляризация:\\t\\t', score_Lasso)\n",
    "print('L2 - регуляризация:\\t\\t', score_Ridge)\n",
    "print('Решающее дерево:\\t\\t', score_DecTree)\n",
    "print('Случайный лес:\\t\\t\\t', score_RandForest)\n",
    "print('Метод ближайших соседей:\\t', score_Neigh)"
   ]
  },
  {
   "cell_type": "markdown",
   "metadata": {},
   "source": [
    "*Видим, что Random Forest дает наименьшую ошибку*"
   ]
  },
  {
   "cell_type": "markdown",
   "metadata": {},
   "source": [
    "Теперь ваша задача - подобрать наилучший способ обучения. Для этого можно применять разные приемы, за проверку каждого из них вы получаете баллы (код проверки для неудачных вариантов нужно оставить):\n",
    "* **(1 балл)** Шкалирование признаков (`sklearn.preprocessing.StandardScaler()` и др.)\n",
    "* **(2 балла)** Подбор оптимальных параметров перебором\n",
    "* **(2 балла)** Отбор признаков с помощью, например, корреляции Пирсона"
   ]
  },
  {
   "cell_type": "markdown",
   "metadata": {},
   "source": [
    "Отмасштабируем признаки и посмотрим, какие ошибки на них будут выдавать уже реализованные методы:"
   ]
  },
  {
   "cell_type": "code",
   "execution_count": 145,
   "metadata": {
    "collapsed": false
   },
   "outputs": [
    {
     "name": "stdout",
     "output_type": "stream",
     "text": [
      "RMSE for linear regression = 43750310949605.625\n"
     ]
    }
   ],
   "source": [
    "from sklearn.preprocessing import scale\n",
    "scaled_features = scale(features)\n",
    "\n",
    "Sscore_LinReg = LinReg(scaled_features)"
   ]
  },
  {
   "cell_type": "code",
   "execution_count": 146,
   "metadata": {
    "collapsed": false
   },
   "outputs": [
    {
     "name": "stdout",
     "output_type": "stream",
     "text": [
      "<class 'sklearn.linear_model.coordinate_descent.Lasso'> \n",
      "Регрессор выдал наименьшую ошибку =   4.3667950337425445 при alpha =  0.5\n"
     ]
    }
   ],
   "source": [
    "Sscore_Lasso = alpha_score(scaled_features, Lasso)"
   ]
  },
  {
   "cell_type": "code",
   "execution_count": 147,
   "metadata": {
    "collapsed": false
   },
   "outputs": [
    {
     "name": "stdout",
     "output_type": "stream",
     "text": [
      "<class 'sklearn.linear_model.ridge.Ridge'> \n",
      "Регрессор выдал наименьшую ошибку =   4.390297355957568 при alpha =  50.00000000000001\n"
     ]
    }
   ],
   "source": [
    "Sscore_Ridge = alpha_score(scaled_features, Ridge)"
   ]
  },
  {
   "cell_type": "code",
   "execution_count": 148,
   "metadata": {
    "collapsed": false
   },
   "outputs": [
    {
     "name": "stdout",
     "output_type": "stream",
     "text": [
      "<class 'sklearn.tree.tree.DecisionTreeRegressor'> \n",
      "Регрессор выдал наименьшую ошибку =  4.439805358325869 при depth 2\n"
     ]
    }
   ],
   "source": [
    "Sscore_DecTree, SCdepth_DecTree = depth_score(scaled_features, DecisionTreeRegressor)"
   ]
  },
  {
   "cell_type": "code",
   "execution_count": 149,
   "metadata": {
    "collapsed": false
   },
   "outputs": [
    {
     "name": "stdout",
     "output_type": "stream",
     "text": [
      "<class 'sklearn.ensemble.forest.RandomForestRegressor'> \n",
      "Регрессор выдал наименьшую ошибку =  4.150168809020295 при depth 3\n"
     ]
    }
   ],
   "source": [
    "Sscore_RandForest, SCdepth_RandForest  = depth_score(scaled_features, RandomForestRegressor)"
   ]
  },
  {
   "cell_type": "code",
   "execution_count": 150,
   "metadata": {
    "collapsed": false
   },
   "outputs": [
    {
     "name": "stdout",
     "output_type": "stream",
     "text": [
      "Попробуем изменить количество деревьев при depth = 3\n",
      "<class 'sklearn.ensemble.forest.RandomForestRegressor'> \n",
      "Регрессор выдал наименьшую ошибку =  4.106594364193614 при depth =  3 , кол-во деревьев  13\n"
     ]
    }
   ],
   "source": [
    "Sscore_RandForest = Number_of_Trees(scaled_features, SCdepth_RandForest)"
   ]
  },
  {
   "cell_type": "code",
   "execution_count": 151,
   "metadata": {
    "collapsed": false
   },
   "outputs": [
    {
     "name": "stdout",
     "output_type": "stream",
     "text": [
      "<class 'sklearn.neighbors.regression.KNeighborsRegressor'> \n",
      "Регрессор выдал наименьшую ошибку =  4.438522631457127 при количестве соседей =  29\n"
     ]
    }
   ],
   "source": [
    "Sscore_Neigh = neighbors(scaled_features)"
   ]
  },
  {
   "cell_type": "code",
   "execution_count": 152,
   "metadata": {
    "collapsed": false
   },
   "outputs": [
    {
     "name": "stdout",
     "output_type": "stream",
     "text": [
      "\t\t\t\t\t\t     RMSE\n",
      "\t\t\t\t до масштабирования\t\t после масштабирования\n",
      "Линйная регрессия:\t\t 4.477540895905259 \t\t 43750310949605.625\n",
      "L1 - регуляризация:\t\t 4.359230224079379 \t\t 4.3667950337425445\n",
      "L2 - регуляризация:\t\t 4.313112565696272 \t\t 4.390297355957568\n",
      "Решающее дерево:\t\t 4.439805358325869 \t\t 4.439805358325869\n",
      "Случайный лес:\t\t\t 4.137347600831678 \t\t 4.106594364193614\n",
      "Метод ближайших соседей:\t 4.343267985428593 \t\t 4.438522631457127\n"
     ]
    }
   ],
   "source": [
    "print('\\t\\t\\t\\t\\t\\t     RMSE')\n",
    "print('\\t\\t\\t\\t до масштабирования\\t\\t после масштабирования')\n",
    "print('Линйная регрессия:\\t\\t', score_LinReg, '\\t\\t', Sscore_LinReg)\n",
    "print('L1 - регуляризация:\\t\\t', score_Lasso, '\\t\\t', Sscore_Lasso)\n",
    "print('L2 - регуляризация:\\t\\t', score_Ridge, '\\t\\t', Sscore_Ridge)\n",
    "print('Решающее дерево:\\t\\t', score_DecTree, '\\t\\t', Sscore_DecTree)\n",
    "print('Случайный лес:\\t\\t\\t', score_RandForest, '\\t\\t', Sscore_RandForest)\n",
    "print('Метод ближайших соседей:\\t', score_Neigh, '\\t\\t', Sscore_Neigh)"
   ]
  },
  {
   "cell_type": "markdown",
   "metadata": {},
   "source": [
    "Random Forest дает наименьшую ошибку и при масштабированных признаках."
   ]
  },
  {
   "cell_type": "markdown",
   "metadata": {
    "collapsed": true
   },
   "source": [
    "Корреляция Пирсона"
   ]
  },
  {
   "cell_type": "code",
   "execution_count": 153,
   "metadata": {
    "collapsed": false
   },
   "outputs": [
    {
     "data": {
      "text/plain": [
       "<Container object of 45 artists>"
      ]
     },
     "execution_count": 153,
     "metadata": {},
     "output_type": "execute_result"
    },
    {
     "data": {
      "image/png": "[encoded data removed]",
      "text/plain": [
       "<matplotlib.figure.Figure at 0x170156116d8>"
      ]
     },
     "metadata": {},
     "output_type": "display_data"
    }
   ],
   "source": [
    "import scipy as sp\n",
    "from scipy.stats import pearsonr\n",
    "\n",
    "def coefficient_pearson():\n",
    "    arr_coefficient = []\n",
    "    arr_index = []\n",
    "    for i in range(45):\n",
    "        corr_coefficient = sp.stats.pearsonr(pd.DataFrame(scaled_features)[i], target.ravel())[0]\n",
    "        arr_coefficient.append(corr_coefficient)\n",
    "        if math.fabs(corr_coefficient) < 0.1:\n",
    "            arr_index.append(i)\n",
    "    return arr_coefficient, arr_index\n",
    "\n",
    "y, ind_del = coefficient_pearson()\n",
    "y = np.absolute(y)\n",
    "index = np.arange(45)\n",
    "bar_width = 0.5\n",
    "plt.bar(index, y, bar_width, alpha = 0.8, color='green')"
   ]
  },
  {
   "cell_type": "markdown",
   "metadata": {},
   "source": [
    "Попробуем выкинуть признаки, для которых коэффициент корреляции с целевым признаком стремится к нулю (например, <0.1)"
   ]
  },
  {
   "cell_type": "code",
   "execution_count": 154,
   "metadata": {
    "collapsed": false
   },
   "outputs": [
    {
     "name": "stdout",
     "output_type": "stream",
     "text": [
      "RMSE for linear regression = 4.283580482011444\n"
     ]
    }
   ],
   "source": [
    "dependent_features = scaled_features\n",
    "dependent_features = sp.delete(dependent_features, np.array(ind_del), 1) \n",
    "Dscore_LinReg = LinReg(dependent_features)"
   ]
  },
  {
   "cell_type": "code",
   "execution_count": 155,
   "metadata": {
    "collapsed": false
   },
   "outputs": [
    {
     "name": "stdout",
     "output_type": "stream",
     "text": [
      "<class 'sklearn.linear_model.coordinate_descent.Lasso'> \n",
      "Регрессор выдал наименьшую ошибку =   4.269172735396986 при alpha =  0.1\n"
     ]
    }
   ],
   "source": [
    "Dscore_Lasso = alpha_score(dependent_features, Lasso)"
   ]
  },
  {
   "cell_type": "code",
   "execution_count": 156,
   "metadata": {
    "collapsed": false
   },
   "outputs": [
    {
     "name": "stdout",
     "output_type": "stream",
     "text": [
      "<class 'sklearn.linear_model.ridge.Ridge'> \n",
      "Регрессор выдал наименьшую ошибку =   4.2682674672130165 при alpha =  50.00000000000001\n"
     ]
    }
   ],
   "source": [
    "Dscore_Ridge = alpha_score(dependent_features, Ridge)"
   ]
  },
  {
   "cell_type": "code",
   "execution_count": 157,
   "metadata": {
    "collapsed": false
   },
   "outputs": [
    {
     "name": "stdout",
     "output_type": "stream",
     "text": [
      "<class 'sklearn.tree.tree.DecisionTreeRegressor'> \n",
      "Регрессор выдал наименьшую ошибку =  4.434529278472216 при depth 1\n"
     ]
    }
   ],
   "source": [
    "Dscore_DecTree, DEPdepth_DecTree = depth_score(dependent_features, DecisionTreeRegressor)"
   ]
  },
  {
   "cell_type": "code",
   "execution_count": 158,
   "metadata": {
    "collapsed": false
   },
   "outputs": [
    {
     "name": "stdout",
     "output_type": "stream",
     "text": [
      "<class 'sklearn.ensemble.forest.RandomForestRegressor'> \n",
      "Регрессор выдал наименьшую ошибку =  4.359915528266878 при depth 1\n"
     ]
    }
   ],
   "source": [
    "Dscore_RandForest, DEPdepth_RandForest  = depth_score(dependent_features, RandomForestRegressor)"
   ]
  },
  {
   "cell_type": "code",
   "execution_count": 159,
   "metadata": {
    "collapsed": false
   },
   "outputs": [
    {
     "name": "stdout",
     "output_type": "stream",
     "text": [
      "<class 'sklearn.neighbors.regression.KNeighborsRegressor'> \n",
      "Регрессор выдал наименьшую ошибку =  4.367869694672207 при количестве соседей =  18\n"
     ]
    }
   ],
   "source": [
    "Dscore_Neigh = neighbors(dependent_features)"
   ]
  },
  {
   "cell_type": "markdown",
   "metadata": {},
   "source": [
    "Сравним результаты для масштабированных признаков до и после отбора признаков"
   ]
  },
  {
   "cell_type": "code",
   "execution_count": 160,
   "metadata": {
    "collapsed": false
   },
   "outputs": [
    {
     "name": "stdout",
     "output_type": "stream",
     "text": [
      "\t\t\t\t\t\t     RMSE\n",
      "\t\t\t\t до отбора признаков\t\t после отбора признаков\n",
      "Линйная регрессия:\t\t 43750310949605.625 \t\t 4.283580482011444\n",
      "L1 - регуляризация:\t\t 4.3667950337425445 \t\t 4.269172735396986\n",
      "L2 - регуляризация:\t\t 4.390297355957568 \t\t 4.2682674672130165\n",
      "Решающее дерево:\t\t 4.439805358325869 \t\t 4.434529278472216\n",
      "Случайный лес:\t\t\t 4.106594364193614 \t\t 4.359915528266878\n",
      "Метод ближайших соседей:\t 4.438522631457127 \t\t 4.367869694672207\n"
     ]
    }
   ],
   "source": [
    "print('\\t\\t\\t\\t\\t\\t     RMSE')\n",
    "print('\\t\\t\\t\\t до отбора признаков\\t\\t после отбора признаков')\n",
    "print('Линйная регрессия:\\t\\t', SCscore_LinReg, '\\t\\t', Dscore_LinReg)\n",
    "print('L1 - регуляризация:\\t\\t', SCscore_Lasso, '\\t\\t', Dscore_Lasso)\n",
    "print('L2 - регуляризация:\\t\\t', SCscore_Ridge, '\\t\\t', Dscore_Ridge)\n",
    "print('Решающее дерево:\\t\\t', SCscore_DecTree, '\\t\\t', Dscore_DecTree)\n",
    "print('Случайный лес:\\t\\t\\t', SCscore_RandForest, '\\t\\t', Dscore_RandForest)\n",
    "print('Метод ближайших соседей:\\t', SCscore_Neigh, '\\t\\t', Dscore_Neigh)"
   ]
  },
  {
   "cell_type": "markdown",
   "metadata": {},
   "source": [
    "Видим, что ошибка после исключения признаков, почти не коррелирующих с цеоевой переменной, только увеличилась. Значит, масштабирования признаков достаточно."
   ]
  },
  {
   "cell_type": "markdown",
   "metadata": {},
   "source": [
    "Подведем итог: на заданных данных лучше всего работает Ranadom Forest, масштабирование признаков помогло уменьшить ошибку, в отличие от отбора признаков, мало коррелирующих с целевой переменной."
   ]
  }
 ],
 "metadata": {
  "kernelspec": {
   "display_name": "Python 3",
   "language": "python",
   "name": "python3"
  },
  "language_info": {
   "codemirror_mode": {
    "name": "ipython",
    "version": 3
   },
   "file_extension": ".py",
   "mimetype": "text/x-python",
   "name": "python",
   "nbconvert_exporter": "python",
   "pygments_lexer": "ipython3",
   "version": "3.5.1"
  }
 },
 "nbformat": 4,
 "nbformat_minor": 0
}
